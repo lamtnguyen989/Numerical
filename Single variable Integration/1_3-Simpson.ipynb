{
 "cells": [
  {
   "cell_type": "markdown",
   "metadata": {},
   "source": [
    "This is a short notebook of how I'll be implementing the (composite) 1/3-Simpson's rule"
   ]
  },
  {
   "cell_type": "markdown",
   "metadata": {},
   "source": [
    "Given an integrable function $f: [a,b] \\to \\mathbb{R}$ and specifying the number $m$ of equally spaced subintervals in $[a,b]$, meaning that\n",
    "$$\n",
    "    a=x_0 < x_1 < x_2 < \\cdots < x_{2m - 1} < x_{2m} = b\n",
    "$$\n",
    "where $[x_i,x_{i + 1}]$ are intervals such that $|x_{i + 1} - x_i| = |x_{i + 2} - x_{i + 1}|$ for all $0 \\leq i \\leq 2m - 2$, then the composite 1/3-Simpson's rule is a $4$-th order approximation scheme to the integral given by the formula:\n",
    "$$\n",
    "    \\int_{a}^{b} f(x)dx \\approx \\frac{h}{3} \\left(f(a) + 4\\sum_{i = 1}^{m} f(x_{2i - 1}) + 2\\sum_{i = 1}^{m-1} f(x_{2i}) + f(b) \\right)\n",
    "$$"
   ]
  },
  {
   "cell_type": "markdown",
   "metadata": {},
   "source": [
    "Denoting $Q$ as the value computed by the rule then the error can be completely bounded by:\n",
    "$$\n",
    "    \\int_{a}^{b} f(x)dx = Q - \\frac{(b - a)h^4}{180} f^{''''}(\\xi)\n",
    "$$\n",
    "for some value $\\xi \\in (a,b)$. \n",
    "\n",
    "With that said, the below is the code for the computation."
   ]
  },
  {
   "cell_type": "code",
   "execution_count": 2,
   "metadata": {},
   "outputs": [],
   "source": [
    "import numpy as np\n",
    "\n",
    "# Information about the function and integral scheme (change values to suit your cases)\n",
    "def f(x):\n",
    "    return 1/(np.sin(x**5) + 1)\n",
    "\n",
    "lower = 0       # Lower bound of integration\n",
    "upper = 1       # Upper-bound of integration\n",
    "intervals = 32  # Number of intervals considered in the Simpson's rule"
   ]
  },
  {
   "cell_type": "code",
   "execution_count": 3,
   "metadata": {},
   "outputs": [],
   "source": [
    "# Simpson's rule calculation\n",
    "def simpson(f,start, end, subintervals):\n",
    "    # Step size\n",
    "    h = (end - start)/(2*subintervals)\n",
    "\n",
    "    # Initialize result\n",
    "    result = f(start) + f(end)\n",
    "\n",
    "    # Making initial jump (since we have already evaluated f at the starting point)\n",
    "    x = start + h\n",
    "    # Iterating through the formula\n",
    "    for k in range(1, 2*subintervals):\n",
    "        if k % 2 == 0:\n",
    "            result += 2*f(x)\n",
    "        else:\n",
    "            result += 4*f(x)\n",
    "        x += h\n",
    "    # Finialize the 1/3-Simpson rule formula\n",
    "    result = (h/3)*result\n",
    "\n",
    "    return result\n"
   ]
  },
  {
   "cell_type": "code",
   "execution_count": 4,
   "metadata": {},
   "outputs": [
    {
     "data": {
      "text/plain": [
       "0.8918521305110467"
      ]
     },
     "execution_count": 4,
     "metadata": {},
     "output_type": "execute_result"
    }
   ],
   "source": [
    "# Result of integration\n",
    "simpson(f, lower, upper, intervals)"
   ]
  },
  {
   "cell_type": "markdown",
   "metadata": {},
   "source": [
    "<b> Richardson Extrapolation </b>\n",
    "\n",
    "Recall that we can extend the accuracy of a Quadrature by applying the Richardson's extrapolation. To apply this to the Simpson's Rule, let $S(h)$ be the Simpson's Rule at step-size $h$ that is, choose appropriate the number of subintervals $m$ where $h = \\frac{b - a}{m}$. Since $S(h)$ is a $4$-th order quadrature, \n",
    "$$\n",
    "    S(h) = \\int_a^b f(x)dx + \\alpha h^4 + O(h^5)\n",
    "$$\n",
    "then with step doubling\n",
    "$$\n",
    "    S(2h) = \\int_a^b f(x)dx + \\alpha (2h)^4 + O(h^5) = \\int_a^b f(x)dx + 16\\alpha h^4 + O(h^5)\n",
    "$$\n",
    "we can see that \n",
    "$$\n",
    "    16S(h) - S(2h) = 15\\int_a^b f(x)dx + O(h^5) \\implies \\int_a^b f(x)dx = \\frac{16S(h) - S(2h)}{15} + O(h^5)\n",
    "$$\n",
    "\n",
    "One nice thing about this extrapolation is that it is actually a $6$-th order method."
   ]
  },
  {
   "cell_type": "code",
   "execution_count": 8,
   "metadata": {},
   "outputs": [
    {
     "data": {
      "text/plain": [
       "0.891852131499485"
      ]
     },
     "execution_count": 8,
     "metadata": {},
     "output_type": "execute_result"
    }
   ],
   "source": [
    "(16*simpson(f, lower, upper, intervals) - simpson(f, lower, upper, 2*intervals))/15"
   ]
  },
  {
   "cell_type": "code",
   "execution_count": null,
   "metadata": {},
   "outputs": [],
   "source": []
  }
 ],
 "metadata": {
  "kernelspec": {
   "display_name": "Python 3",
   "language": "python",
   "name": "python3"
  },
  "language_info": {
   "codemirror_mode": {
    "name": "ipython",
    "version": 3
   },
   "file_extension": ".py",
   "mimetype": "text/x-python",
   "name": "python",
   "nbconvert_exporter": "python",
   "pygments_lexer": "ipython3",
   "version": "3.12.2"
  }
 },
 "nbformat": 4,
 "nbformat_minor": 2
}
