{
 "cells": [
  {
   "cell_type": "markdown",
   "metadata": {},
   "source": [
    "This notebook will concerned primarily with the numerical 1st and 2nd derivatives of an at least twice-differentiable map"
   ]
  },
  {
   "cell_type": "code",
   "execution_count": 33,
   "metadata": {},
   "outputs": [],
   "source": [
    "import numpy as np\n",
    "\n",
    "# Function to differentiate (change according to your case)\n",
    "def f(x):\n",
    "    return np.exp(np.sin(x))"
   ]
  },
  {
   "cell_type": "markdown",
   "metadata": {},
   "source": [
    "<b>First derivative </b>\n",
    "\n",
    "We will only compute the 5-points centered-difference formula (Richardson extrapolation of the centered-difference formula with $\\alpha = \\frac{1}{2}$) which is a $4$-th order scheme with the formula\n",
    "\n",
    "$$\n",
    "    f'(x) \\approx \\frac{f(x-h) - f(x+h) + 8f\\Big(x+\\frac{h}{2}\\Big) - 8f\\Big(x-\\frac{h}{2}\\Big)}{6h}\n",
    "$$\n",
    "for small $h \\in (0,1)$"
   ]
  },
  {
   "cell_type": "code",
   "execution_count": 34,
   "metadata": {},
   "outputs": [],
   "source": [
    "# Numerical approximation of f'(x) based on the formula above\n",
    "def numerical_first_deri(f, x, h):\n",
    "    if np.absolute(h) == 0 or np.absolute(h) >= 1:\n",
    "        print(\"Invalid value for h\")\n",
    "        return\n",
    "    return (f(x - h) - f(x + h) + 8*f(x + h/2) - 8*f(x - h/2))/(6*h)"
   ]
  },
  {
   "cell_type": "code",
   "execution_count": 35,
   "metadata": {},
   "outputs": [
    {
     "data": {
      "text/plain": [
       "-1.0331168674842555"
      ]
     },
     "execution_count": 35,
     "metadata": {},
     "output_type": "execute_result"
    }
   ],
   "source": [
    "numerical_first_deri(f,2,0.01)"
   ]
  },
  {
   "cell_type": "markdown",
   "metadata": {},
   "source": [
    "<b>Second derivative </b>\n",
    "\n",
    "Using the Richardson extrapolation of the 3-points difference formula for the 2nd-derviative give us the following $4$-th order approximation scheme\n",
    "$$\n",
    "    f''(x) \\approx \\frac{16f\\Big(x+\\frac{h}{2}\\Big) + 16f\\Big(x-\\frac{h}{2}\\Big) - f(x - h) - f(x + h) - 30f(x)}{3h^2}\n",
    "$$\n",
    "where again, small $h \\in (0,1)$"
   ]
  },
  {
   "cell_type": "code",
   "execution_count": 36,
   "metadata": {},
   "outputs": [],
   "source": [
    "# Numerical approximation of f''(x)\n",
    "def numerical_second_deri(f, x, h):\n",
    "    if np.absolute(h) == 0 or np.absolute(h) >= 1:\n",
    "        print(\"Invalid value for h\")\n",
    "        return\n",
    "    return (16*f(x + h/2) + 16*f(x - h/2) - f(x - h) - f(x + h) - 30*f(x) )/(3*h**2)"
   ]
  },
  {
   "cell_type": "code",
   "execution_count": 37,
   "metadata": {},
   "outputs": [
    {
     "data": {
      "text/plain": [
       "-1.8274732235094384"
      ]
     },
     "execution_count": 37,
     "metadata": {},
     "output_type": "execute_result"
    }
   ],
   "source": [
    "numerical_second_deri(f,2,0.01)"
   ]
  },
  {
   "cell_type": "code",
   "execution_count": null,
   "metadata": {},
   "outputs": [],
   "source": []
  }
 ],
 "metadata": {
  "kernelspec": {
   "display_name": "Python 3",
   "language": "python",
   "name": "python3"
  },
  "language_info": {
   "codemirror_mode": {
    "name": "ipython",
    "version": 3
   },
   "file_extension": ".py",
   "mimetype": "text/x-python",
   "name": "python",
   "nbconvert_exporter": "python",
   "pygments_lexer": "ipython3",
   "version": "3.12.2"
  }
 },
 "nbformat": 4,
 "nbformat_minor": 2
}
