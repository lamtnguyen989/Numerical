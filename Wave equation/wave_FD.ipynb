{
 "cells": [
  {
   "cell_type": "markdown",
   "metadata": {},
   "source": [
    "The notebook will be an implementation of the finite difference of the (1D) wave equation on a rectangular domain"
   ]
  },
  {
   "cell_type": "markdown",
   "metadata": {},
   "source": [
    "The 1D wave equation is a linear partial differential equation (PDE) of the form \n",
    "$$\n",
    "    \\frac{\\partial^2 u}{\\partial t^2} = D^2\\frac{\\partial^2 u}{\\partial x^2}\n",
    "$$\n",
    "where $t$ is the time and $x$ is the direction.\n",
    "\n",
    "To specify a unique solution $u(x,t)$ on the domain $[a,b] \\times [0, \\infty)$, one would need to provide an inital condition on both the solution, its time partial derivatives along and its boundary condition on the sides of the rectangle. That is, one would need\n",
    "$$\n",
    "    \\begin{equation}\n",
    "        \\begin{cases}\n",
    "            u(x,0) = f(x) \\qquad \\hspace{14pt} \\text{ for } a \\leq x \\leq b \\\\\n",
    "            \\displaystyle \\frac{\\partial u}{\\partial t}(x,0) = \\frac{df}{dt}(x) \\quad \\hspace{8pt} \\text{ for } a \\leq x \\leq b \\\\\n",
    "            u(a,t) = l(t) \\qquad \\qquad \\text{ for } t \\geq 0 \\\\\n",
    "            u(b,t) = r(t) \\qquad \\qquad \\text{ for } t \\geq 0\n",
    "        \\end{cases}\n",
    "    \\end{equation}\n",
    "$$"
   ]
  },
  {
   "cell_type": "markdown",
   "metadata": {},
   "source": [
    "To discretize it, we will first take a portion of time interval $[t_0, t] \\subseteq [0,\\infty)$ and work with the rectangle $[a,b] \\times [t_0,t]$. Choose the step-size $h$ for the space and $k$ then to make the solution stable, these would need to sastisfy the <b> CFL-condition </b>\n",
    "$$\n",
    "    \\alpha = \\frac{Dk}{h} \\leq 1\n",
    "$$"
   ]
  },
  {
   "cell_type": "code",
   "execution_count": 2,
   "metadata": {},
   "outputs": [],
   "source": [
    "import numpy as np\n",
    "\n",
    "# Initial conditions\n",
    "def f(x):\n",
    "    return 0*x\n",
    "def f_t(x):\n",
    "    return 2*np.pi*np.sin(np.pi*x)\n",
    "def l(t):\n",
    "    return 0*t\n",
    "def r(t):\n",
    "    return 0*t\n",
    "# Wave speed\n",
    "D = 2 "
   ]
  },
  {
   "cell_type": "code",
   "execution_count": 4,
   "metadata": {},
   "outputs": [],
   "source": [
    "def waveFD(f,f_t,l,r,D,x_0,x_end,t_0,t_end,space_steps,time_steps):\n",
    "    h = (x_end - x_0)/space_steps\n",
    "    k = (t_end - t_0)/time_steps\n",
    "    alpha = (D*k)/h\n",
    "\n",
    "    # Checking for stability\n",
    "    if alpha < 0 or alpha > 1:\n",
    "        print(\"Fail to meet the CFL-condition\")\n",
    "        return\n",
    "    "
   ]
  },
  {
   "cell_type": "code",
   "execution_count": null,
   "metadata": {},
   "outputs": [],
   "source": []
  }
 ],
 "metadata": {
  "kernelspec": {
   "display_name": "Python 3",
   "language": "python",
   "name": "python3"
  },
  "language_info": {
   "codemirror_mode": {
    "name": "ipython",
    "version": 3
   },
   "file_extension": ".py",
   "mimetype": "text/x-python",
   "name": "python",
   "nbconvert_exporter": "python",
   "pygments_lexer": "ipython3",
   "version": "3.12.2"
  }
 },
 "nbformat": 4,
 "nbformat_minor": 2
}
