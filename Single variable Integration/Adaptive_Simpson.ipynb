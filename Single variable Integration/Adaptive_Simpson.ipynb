{
 "cells": [
  {
   "cell_type": "code",
   "execution_count": 26,
   "metadata": {},
   "outputs": [],
   "source": [
    "import numpy as np\n",
    "\n",
    "# Information about the function and integral scheme (change values to suit your cases)\n",
    "def f(x):\n",
    "    return np.exp(np.sin(x))\n",
    "\n",
    "lower = -10                         # Lower bound of integration\n",
    "upper = 10                          # Upper-bound of integration\n",
    "decimal_places = 4                  # Decimal places of significance\n",
    "epsilon = 0.5*10**(-decimal_places) # Corresponding tolerance for decimal place siginifcance"
   ]
  },
  {
   "cell_type": "code",
   "execution_count": 27,
   "metadata": {},
   "outputs": [],
   "source": [
    "# Basic simpson's Rule\n",
    "def simpson(f, lower, upper):\n",
    "    return (upper - lower)/6 *(f(lower) + f(upper) + f((upper + lower)/2))"
   ]
  },
  {
   "cell_type": "code",
   "execution_count": 30,
   "metadata": {},
   "outputs": [],
   "source": [
    "# STILL IN DEVELOPMENT, DO NOT USE\n",
    "\n",
    "# Adaptive Quadrature for the Simpson's Rule\n",
    "def adaptive_simpson(f, lower, upper, epsilon_0):\n",
    "    # Initialize result and varibles needed for the recursion of adaptive quadrature\n",
    "    result = 0\n",
    "    a = np.array([lower])\n",
    "    b = np.array([upper])\n",
    "    epsilon = np.array([epsilon_0])\n",
    "    simpson_vals = np.array([simpson(f,lower,upper)])\n",
    "\n",
    "    # Recursion\n",
    "    n = 0\n",
    "    while n >= 0:\n",
    "        old_simpson_vals = simpson_vals[n]\n",
    "        simpson_vals[n] = simpson(f, a[n], (a[n] + b[n])/2)\n",
    "        simpson_vals = np.append(simpson_vals, simpson(f, (a[n] + b[n])/2, b[n]))\n",
    "\n",
    "\n",
    "        if np.linalg.norm(old_simpson_vals - (simpson_vals[n] + simpson_vals[n+1])) < 15*epsilon[n]:\n",
    "            result += simpson_vals[n] + simpson_vals[n+1]\n",
    "            n = n-1\n",
    "        else:\n",
    "            b = np.append(b,b[n])\n",
    "            a = np.append(a, (a[n] + b[n])/2)\n",
    "            b[n] = (a[n] + b[n])/2\n",
    "            epsilon[n] = epsilon[n]/2\n",
    "            epsilon = np.append(epsilon, epsilon[n])\n",
    "            n += 1"
   ]
  },
  {
   "cell_type": "code",
   "execution_count": 29,
   "metadata": {},
   "outputs": [
    {
     "ename": "KeyboardInterrupt",
     "evalue": "",
     "output_type": "error",
     "traceback": [
      "\u001b[1;31m---------------------------------------------------------------------------\u001b[0m",
      "\u001b[1;31mKeyboardInterrupt\u001b[0m                         Traceback (most recent call last)",
      "Cell \u001b[1;32mIn[29], line 1\u001b[0m\n\u001b[1;32m----> 1\u001b[0m \u001b[43madaptive_simpson\u001b[49m\u001b[43m(\u001b[49m\u001b[43mf\u001b[49m\u001b[43m,\u001b[49m\u001b[43m \u001b[49m\u001b[43mlower\u001b[49m\u001b[43m,\u001b[49m\u001b[43m \u001b[49m\u001b[43mupper\u001b[49m\u001b[43m,\u001b[49m\u001b[43m \u001b[49m\u001b[43mepsilon\u001b[49m\u001b[43m)\u001b[49m\n",
      "Cell \u001b[1;32mIn[28], line 23\u001b[0m, in \u001b[0;36madaptive_simpson\u001b[1;34m(f, lower, upper, epsilon_0)\u001b[0m\n\u001b[0;32m     21\u001b[0m \u001b[38;5;28;01melse\u001b[39;00m:\n\u001b[0;32m     22\u001b[0m     b \u001b[38;5;241m=\u001b[39m np\u001b[38;5;241m.\u001b[39mappend(b,b[n])\n\u001b[1;32m---> 23\u001b[0m     a \u001b[38;5;241m=\u001b[39m \u001b[43mnp\u001b[49m\u001b[38;5;241;43m.\u001b[39;49m\u001b[43mappend\u001b[49m\u001b[43m(\u001b[49m\u001b[43ma\u001b[49m\u001b[43m,\u001b[49m\u001b[43m \u001b[49m\u001b[43m(\u001b[49m\u001b[43ma\u001b[49m\u001b[43m[\u001b[49m\u001b[43mn\u001b[49m\u001b[43m]\u001b[49m\u001b[43m \u001b[49m\u001b[38;5;241;43m+\u001b[39;49m\u001b[43m \u001b[49m\u001b[43mb\u001b[49m\u001b[43m[\u001b[49m\u001b[43mn\u001b[49m\u001b[43m]\u001b[49m\u001b[43m)\u001b[49m\u001b[38;5;241;43m/\u001b[39;49m\u001b[38;5;241;43m2\u001b[39;49m\u001b[43m)\u001b[49m\n\u001b[0;32m     24\u001b[0m     b[n] \u001b[38;5;241m=\u001b[39m (a[n] \u001b[38;5;241m+\u001b[39m b[n])\u001b[38;5;241m/\u001b[39m\u001b[38;5;241m2\u001b[39m\n\u001b[0;32m     25\u001b[0m     epsilon[n] \u001b[38;5;241m=\u001b[39m epsilon[n]\u001b[38;5;241m/\u001b[39m\u001b[38;5;241m2\u001b[39m\n",
      "File \u001b[1;32mc:\\Users\\lamtn\\AppData\\Local\\Programs\\Python\\Python312\\Lib\\site-packages\\numpy\\lib\\function_base.py:5618\u001b[0m, in \u001b[0;36mappend\u001b[1;34m(arr, values, axis)\u001b[0m\n\u001b[0;32m   5616\u001b[0m     values \u001b[38;5;241m=\u001b[39m ravel(values)\n\u001b[0;32m   5617\u001b[0m     axis \u001b[38;5;241m=\u001b[39m arr\u001b[38;5;241m.\u001b[39mndim\u001b[38;5;241m-\u001b[39m\u001b[38;5;241m1\u001b[39m\n\u001b[1;32m-> 5618\u001b[0m \u001b[38;5;28;01mreturn\u001b[39;00m \u001b[43mconcatenate\u001b[49m\u001b[43m(\u001b[49m\u001b[43m(\u001b[49m\u001b[43marr\u001b[49m\u001b[43m,\u001b[49m\u001b[43m \u001b[49m\u001b[43mvalues\u001b[49m\u001b[43m)\u001b[49m\u001b[43m,\u001b[49m\u001b[43m \u001b[49m\u001b[43maxis\u001b[49m\u001b[38;5;241;43m=\u001b[39;49m\u001b[43maxis\u001b[49m\u001b[43m)\u001b[49m\n",
      "\u001b[1;31mKeyboardInterrupt\u001b[0m: "
     ]
    }
   ],
   "source": [
    "adaptive_simpson(f, lower, upper, epsilon)"
   ]
  },
  {
   "cell_type": "code",
   "execution_count": null,
   "metadata": {},
   "outputs": [],
   "source": []
  }
 ],
 "metadata": {
  "kernelspec": {
   "display_name": "Python 3",
   "language": "python",
   "name": "python3"
  },
  "language_info": {
   "codemirror_mode": {
    "name": "ipython",
    "version": 3
   },
   "file_extension": ".py",
   "mimetype": "text/x-python",
   "name": "python",
   "nbconvert_exporter": "python",
   "pygments_lexer": "ipython3",
   "version": "3.12.2"
  }
 },
 "nbformat": 4,
 "nbformat_minor": 2
}
